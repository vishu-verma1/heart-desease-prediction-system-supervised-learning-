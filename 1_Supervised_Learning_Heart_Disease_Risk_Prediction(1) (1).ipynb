{
  "cells": [
    {
      "cell_type": "markdown",
      "source": [
        "## The notebook consists of the following sections:\n",
        "<p>A. Introduction<p>\n",
        "<p>B. Data Import<p>\n",
        "<p>C. Exploratory Data Analysis (EDA)<p>\n",
        "<p>D. Graphical EDA<p>\n",
        "<p>E. Model Building<p>\n",
        "<p>F. Model Diagnostics<p>\n",
        "<p>G. Model Explainability<p>"
      ],
      "metadata": {
        "id": "mz12yq2FTyqz"
      }
    },
    {
      "cell_type": "markdown",
      "source": [
        "![](https://drive.google.com/uc?export=view&id=1lmGYd4N-xMWkcpl1v7gR6hVYsfHLXHiF)"
      ],
      "metadata": {
        "id": "pACcAGAo0EGP"
      }
    },
    {
      "cell_type": "markdown",
      "source": [
        "# A. Introduction"
      ],
      "metadata": {
        "id": "ydPns5tKpBo7"
      }
    },
    {
      "cell_type": "markdown",
      "metadata": {
        "dc": {
          "key": "3"
        },
        "deletable": false,
        "editable": false,
        "run_control": {
          "frozen": true
        },
        "tags": [
          "context"
        ],
        "id": "80Wryhqc8Ppo"
      },
      "source": [
        "### 1. Heart disease and potential risk factors\n",
        "<p>Millions of people develop some sort of heart disease every year and heart disease is the biggest killer of both men and women around the world. Statistical analysis has identified many risk factors associated with heart disease such as age, blood pressure, total cholesterol, diabetes, hypertension, family history of heart disease, obesity, lack of physical exercise, etc. In this notebook, we're going to run statistical tests and regression models using the Cleveland heart disease dataset to predict the risk of heart disease.</p>\n",
        "<p><img src=\"https://archive.ics.uci.edu/ml/assets/MLimages/Large45.jpg\" height=\"200\" width=\"200\"></p>"
      ]
    },
    {
      "cell_type": "markdown",
      "source": [
        "# B. Data Import"
      ],
      "metadata": {
        "id": "Tx0ckJ8QpspB"
      }
    },
    {
      "cell_type": "code",
      "execution_count": 11,
      "metadata": {
        "dc": {
          "key": "3"
        },
        "tags": [
          "sample_code"
        ],
        "id": "-Ju6sFRw8Ppt",
        "colab": {
          "base_uri": "https://localhost:8080/",
          "height": 286
        },
        "outputId": "cd22ed6e-fffc-410f-f27e-a44f6a55f64e"
      },
      "outputs": [
        {
          "output_type": "display_data",
          "data": {
            "text/html": [
              "<table class=\"dataframe\">\n",
              "<caption>A data.frame: 6 × 14</caption>\n",
              "<thead>\n",
              "\t<tr><th></th><th scope=col>age</th><th scope=col>sex</th><th scope=col>cp</th><th scope=col>trestbps</th><th scope=col>chol</th><th scope=col>fbs</th><th scope=col>restecg</th><th scope=col>thalach</th><th scope=col>exang</th><th scope=col>oldpeak</th><th scope=col>slope</th><th scope=col>ca</th><th scope=col>thal</th><th scope=col>class</th></tr>\n",
              "\t<tr><th></th><th scope=col>&lt;int&gt;</th><th scope=col>&lt;int&gt;</th><th scope=col>&lt;int&gt;</th><th scope=col>&lt;int&gt;</th><th scope=col>&lt;int&gt;</th><th scope=col>&lt;int&gt;</th><th scope=col>&lt;int&gt;</th><th scope=col>&lt;int&gt;</th><th scope=col>&lt;int&gt;</th><th scope=col>&lt;dbl&gt;</th><th scope=col>&lt;int&gt;</th><th scope=col>&lt;int&gt;</th><th scope=col>&lt;int&gt;</th><th scope=col>&lt;int&gt;</th></tr>\n",
              "</thead>\n",
              "<tbody>\n",
              "\t<tr><th scope=row>1</th><td>63</td><td>1</td><td>1</td><td>145</td><td>233</td><td>1</td><td>2</td><td>150</td><td>0</td><td>2.3</td><td>3</td><td>0</td><td>6</td><td>0</td></tr>\n",
              "\t<tr><th scope=row>2</th><td>67</td><td>1</td><td>4</td><td>160</td><td>286</td><td>0</td><td>2</td><td>108</td><td>1</td><td>1.5</td><td>2</td><td>3</td><td>3</td><td>2</td></tr>\n",
              "\t<tr><th scope=row>3</th><td>67</td><td>1</td><td>4</td><td>120</td><td>229</td><td>0</td><td>2</td><td>129</td><td>1</td><td>2.6</td><td>2</td><td>2</td><td>7</td><td>1</td></tr>\n",
              "\t<tr><th scope=row>4</th><td>37</td><td>1</td><td>3</td><td>130</td><td>250</td><td>0</td><td>0</td><td>187</td><td>0</td><td>3.5</td><td>3</td><td>0</td><td>3</td><td>0</td></tr>\n",
              "\t<tr><th scope=row>5</th><td>41</td><td>0</td><td>2</td><td>130</td><td>204</td><td>0</td><td>2</td><td>172</td><td>0</td><td>1.4</td><td>1</td><td>0</td><td>3</td><td>0</td></tr>\n",
              "\t<tr><th scope=row>6</th><td>56</td><td>1</td><td>2</td><td>120</td><td>236</td><td>0</td><td>0</td><td>178</td><td>0</td><td>0.8</td><td>1</td><td>0</td><td>3</td><td>0</td></tr>\n",
              "</tbody>\n",
              "</table>\n"
            ],
            "text/markdown": "\nA data.frame: 6 × 14\n\n| <!--/--> | age &lt;int&gt; | sex &lt;int&gt; | cp &lt;int&gt; | trestbps &lt;int&gt; | chol &lt;int&gt; | fbs &lt;int&gt; | restecg &lt;int&gt; | thalach &lt;int&gt; | exang &lt;int&gt; | oldpeak &lt;dbl&gt; | slope &lt;int&gt; | ca &lt;int&gt; | thal &lt;int&gt; | class &lt;int&gt; |\n|---|---|---|---|---|---|---|---|---|---|---|---|---|---|---|\n| 1 | 63 | 1 | 1 | 145 | 233 | 1 | 2 | 150 | 0 | 2.3 | 3 | 0 | 6 | 0 |\n| 2 | 67 | 1 | 4 | 160 | 286 | 0 | 2 | 108 | 1 | 1.5 | 2 | 3 | 3 | 2 |\n| 3 | 67 | 1 | 4 | 120 | 229 | 0 | 2 | 129 | 1 | 2.6 | 2 | 2 | 7 | 1 |\n| 4 | 37 | 1 | 3 | 130 | 250 | 0 | 0 | 187 | 0 | 3.5 | 3 | 0 | 3 | 0 |\n| 5 | 41 | 0 | 2 | 130 | 204 | 0 | 2 | 172 | 0 | 1.4 | 1 | 0 | 3 | 0 |\n| 6 | 56 | 1 | 2 | 120 | 236 | 0 | 0 | 178 | 0 | 0.8 | 1 | 0 | 3 | 0 |\n\n",
            "text/latex": "A data.frame: 6 × 14\n\\begin{tabular}{r|llllllllllllll}\n  & age & sex & cp & trestbps & chol & fbs & restecg & thalach & exang & oldpeak & slope & ca & thal & class\\\\\n  & <int> & <int> & <int> & <int> & <int> & <int> & <int> & <int> & <int> & <dbl> & <int> & <int> & <int> & <int>\\\\\n\\hline\n\t1 & 63 & 1 & 1 & 145 & 233 & 1 & 2 & 150 & 0 & 2.3 & 3 & 0 & 6 & 0\\\\\n\t2 & 67 & 1 & 4 & 160 & 286 & 0 & 2 & 108 & 1 & 1.5 & 2 & 3 & 3 & 2\\\\\n\t3 & 67 & 1 & 4 & 120 & 229 & 0 & 2 & 129 & 1 & 2.6 & 2 & 2 & 7 & 1\\\\\n\t4 & 37 & 1 & 3 & 130 & 250 & 0 & 0 & 187 & 0 & 3.5 & 3 & 0 & 3 & 0\\\\\n\t5 & 41 & 0 & 2 & 130 & 204 & 0 & 2 & 172 & 0 & 1.4 & 1 & 0 & 3 & 0\\\\\n\t6 & 56 & 1 & 2 & 120 & 236 & 0 & 0 & 178 & 0 & 0.8 & 1 & 0 & 3 & 0\\\\\n\\end{tabular}\n",
            "text/plain": [
              "  age sex cp trestbps chol fbs restecg thalach exang oldpeak slope ca thal\n",
              "1 63  1   1  145      233  1   2       150     0     2.3     3     0  6   \n",
              "2 67  1   4  160      286  0   2       108     1     1.5     2     3  3   \n",
              "3 67  1   4  120      229  0   2       129     1     2.6     2     2  7   \n",
              "4 37  1   3  130      250  0   0       187     0     3.5     3     0  3   \n",
              "5 41  0   2  130      204  0   2       172     0     1.4     1     0  3   \n",
              "6 56  1   2  120      236  0   0       178     0     0.8     1     0  3   \n",
              "  class\n",
              "1 0    \n",
              "2 2    \n",
              "3 1    \n",
              "4 0    \n",
              "5 0    \n",
              "6 0    "
            ]
          },
          "metadata": {}
        }
      ],
      "source": [
        "# Read the dataset \n",
        "hd_data <- read.table(\"/content/heart_disease_data.csv\", sep = \",\", header = TRUE)\n",
        "head(hd_data)\n",
        "\n",
        "# take a look at the first 5 rows of hd_data\n",
        "# .... YOUR CODE FOR TASK 1 ...."
      ]
    },
    {
      "cell_type": "code",
      "source": [
        "class(hd_data)\n",
        "dim(hd_data)\n",
        "colnames(hd_data)"
      ],
      "metadata": {
        "colab": {
          "base_uri": "https://localhost:8080/",
          "height": 69
        },
        "id": "PBPdtMdM6vhc",
        "outputId": "a4d5fb78-8d20-49c5-ee24-f4c3c42edccf"
      },
      "execution_count": 2,
      "outputs": [
        {
          "output_type": "display_data",
          "data": {
            "text/html": [
              "'data.frame'"
            ],
            "text/markdown": "'data.frame'",
            "text/latex": "'data.frame'",
            "text/plain": [
              "[1] \"data.frame\""
            ]
          },
          "metadata": {}
        },
        {
          "output_type": "display_data",
          "data": {
            "text/html": [
              "<style>\n",
              ".list-inline {list-style: none; margin:0; padding: 0}\n",
              ".list-inline>li {display: inline-block}\n",
              ".list-inline>li:not(:last-child)::after {content: \"\\00b7\"; padding: 0 .5ex}\n",
              "</style>\n",
              "<ol class=list-inline><li>303</li><li>14</li></ol>\n"
            ],
            "text/markdown": "1. 303\n2. 14\n\n\n",
            "text/latex": "\\begin{enumerate*}\n\\item 303\n\\item 14\n\\end{enumerate*}\n",
            "text/plain": [
              "[1] 303  14"
            ]
          },
          "metadata": {}
        },
        {
          "output_type": "display_data",
          "data": {
            "text/html": [
              "<style>\n",
              ".list-inline {list-style: none; margin:0; padding: 0}\n",
              ".list-inline>li {display: inline-block}\n",
              ".list-inline>li:not(:last-child)::after {content: \"\\00b7\"; padding: 0 .5ex}\n",
              "</style>\n",
              "<ol class=list-inline><li>'age'</li><li>'sex'</li><li>'cp'</li><li>'trestbps'</li><li>'chol'</li><li>'fbs'</li><li>'restecg'</li><li>'thalach'</li><li>'exang'</li><li>'oldpeak'</li><li>'slope'</li><li>'ca'</li><li>'thal'</li><li>'class'</li></ol>\n"
            ],
            "text/markdown": "1. 'age'\n2. 'sex'\n3. 'cp'\n4. 'trestbps'\n5. 'chol'\n6. 'fbs'\n7. 'restecg'\n8. 'thalach'\n9. 'exang'\n10. 'oldpeak'\n11. 'slope'\n12. 'ca'\n13. 'thal'\n14. 'class'\n\n\n",
            "text/latex": "\\begin{enumerate*}\n\\item 'age'\n\\item 'sex'\n\\item 'cp'\n\\item 'trestbps'\n\\item 'chol'\n\\item 'fbs'\n\\item 'restecg'\n\\item 'thalach'\n\\item 'exang'\n\\item 'oldpeak'\n\\item 'slope'\n\\item 'ca'\n\\item 'thal'\n\\item 'class'\n\\end{enumerate*}\n",
            "text/plain": [
              " [1] \"age\"      \"sex\"      \"cp\"       \"trestbps\" \"chol\"     \"fbs\"     \n",
              " [7] \"restecg\"  \"thalach\"  \"exang\"    \"oldpeak\"  \"slope\"    \"ca\"      \n",
              "[13] \"thal\"     \"class\"   "
            ]
          },
          "metadata": {}
        }
      ]
    },
    {
      "cell_type": "markdown",
      "metadata": {
        "dc": {
          "key": "10"
        },
        "deletable": false,
        "editable": false,
        "run_control": {
          "frozen": true
        },
        "tags": [
          "context"
        ],
        "id": "_2-wync98Ppv"
      },
      "source": [
        "### 2. Converting diagnosis class into outcome variable\n",
        "<p>We noticed that the outcome variable <code>class</code> has more than two levels. According to the codebook, any non-zero values can be coded as an \"event.\" Let's create a new variable called <code>hd</code> to represent a binary 1/0 outcome.</p>\n",
        "<p>There are a few other categorical/discrete variables in the dataset. Let's also convert sex into a 'factor' for next step analysis. Otherwise, R will treat this as continuous by default.</p>\n",
        "<p>The full data dictionary is also displayed here.</p>\n",
        "<p><img src=\"https://assets.datacamp.com/production/project_445/img/datadict.png\" height=\"500\" width=\"500\"></p>"
      ]
    },
    {
      "cell_type": "code",
      "execution_count": 22,
      "metadata": {
        "dc": {
          "key": "10"
        },
        "tags": [
          "sample_code"
        ],
        "id": "myqaQD7Y8Ppw"
      },
      "outputs": [],
      "source": [
        "# load the tidyverse package\n",
        "# .... CODE FOR TASK 2 ....\n",
        "library(tidyverse)\n",
        "# Use the 'mutate' function from dplyr to recode our data\n",
        "# hd_data %>% mutate( = ....(class > ...., ...., ....))-> hd_data\n",
        "\n",
        "hd_data %>% mutate(hd = ifelse(class > 0, 1, 0)) -> hd_data\n",
        "\n",
        "# recode sex using mutate function and save as hd_data\n",
        "hd_data %>% mutate(sex = factor(sex, levels = 0:1, labels = c(\"Female\", \"Male\")))-> hd_data"
      ]
    },
    {
      "cell_type": "code",
      "source": [
        "print(summary(hd_data$sex))"
      ],
      "metadata": {
        "colab": {
          "base_uri": "https://localhost:8080/"
        },
        "id": "iYcBg16Tr3uo",
        "outputId": "fa1a1a0d-840a-4a61-f8e5-ba887f931094"
      },
      "execution_count": 6,
      "outputs": [
        {
          "output_type": "stream",
          "name": "stdout",
          "text": [
            "Female   Male   NA's \n",
            "     0      0    303 \n"
          ]
        }
      ]
    },
    {
      "cell_type": "code",
      "source": [
        "table(factor(hd_data$class),factor(hd_data$hd))"
      ],
      "metadata": {
        "colab": {
          "base_uri": "https://localhost:8080/",
          "height": 139
        },
        "id": "h2nZrD_K8hfi",
        "outputId": "0112906b-c22c-4c93-8f71-f63a6ad59559"
      },
      "execution_count": 7,
      "outputs": [
        {
          "output_type": "display_data",
          "data": {
            "text/plain": [
              "   \n",
              "      0   1\n",
              "  0 164   0\n",
              "  1   0  55\n",
              "  2   0  36\n",
              "  3   0  35\n",
              "  4   0  13"
            ]
          },
          "metadata": {}
        }
      ]
    },
    {
      "cell_type": "markdown",
      "source": [
        "# C. Exploratory Data Analysis"
      ],
      "metadata": {
        "id": "KqPlRrA4qIRx"
      }
    },
    {
      "cell_type": "markdown",
      "metadata": {
        "dc": {
          "key": "17"
        },
        "deletable": false,
        "editable": false,
        "run_control": {
          "frozen": true
        },
        "tags": [
          "context"
        ],
        "id": "O6KHwL3p8Ppx"
      },
      "source": [
        "### 3. Identifying important clinical variables\n",
        "<p>Now, let's use statistical tests to see which predictors are related to heart disease. We can explore the associations for each variable in the dataset. Depending on the type of the data (i.e., continuous or categorical), we use t-test or chi-squared test to calculate the p-values.</p>\n",
        "<p>Recall, t-test is used to determine whether there is a significant difference between the means of two groups (e.g., is the mean age from group A different from the mean age from group B?). A chi-squared test for independence compares the equivalence of two proportions.</p>"
      ]
    },
    {
      "cell_type": "code",
      "execution_count": 17,
      "metadata": {
        "dc": {
          "key": "17"
        },
        "tags": [
          "sample_code"
        ],
        "id": "impXSnd88Ppy",
        "colab": {
          "base_uri": "https://localhost:8080/"
        },
        "outputId": "4d78b774-6f3f-416c-bd19-7b6794e93c9c"
      },
      "outputs": [
        {
          "output_type": "stream",
          "name": "stderr",
          "text": [
            "Warning message in chisq.test(hd_data$sex, hd_data$hd):\n",
            "“Chi-squared approximation may be incorrect”\n"
          ]
        },
        {
          "output_type": "stream",
          "name": "stdout",
          "text": [
            "\n",
            "\tChi-squared test for given probabilities\n",
            "\n",
            "data:  hd_data$sex\n",
            "X-squared = 97, df = 302, p-value = 1\n",
            "\n",
            "\n",
            "\tOne Sample t-test\n",
            "\n",
            "data:  hd_data$age\n",
            "t = 104.84, df = 302, p-value < 2.2e-16\n",
            "alternative hypothesis: true mean is not equal to 0\n",
            "95 percent confidence interval:\n",
            " 53.41712 55.46077\n",
            "sample estimates:\n",
            "mean of x \n",
            " 54.43894 \n",
            "\n",
            "\n",
            "\tOne Sample t-test\n",
            "\n",
            "data:  hd_data$thalach\n",
            "t = 113.84, df = 302, p-value < 2.2e-16\n",
            "alternative hypothesis: true mean is not equal to 0\n",
            "95 percent confidence interval:\n",
            " 147.0212 152.1933\n",
            "sample estimates:\n",
            "mean of x \n",
            " 149.6073 \n",
            "\n"
          ]
        }
      ],
      "source": [
        "# Does sex have an effect? Sex is a binary variable in this dataset,\n",
        "# so the appropriate test is chi-squared test\n",
        "hd_sex <- chisq.test(hd_data$sex, hd_data$hd)\n",
        "\n",
        "# Does age have an effect? Age is continuous, so we use t-test here\n",
        "hd_age <- t.test(hd_data$age, hd_data$hd)\n",
        "\n",
        "# What about thalach: maximum heart rate one can achieve during exercise?\n",
        "hd_heartrate <- t.test(hd_data$thalach,hd_data$hd)\n",
        "\n",
        "# Print the results to see if p<0.05.\n",
        "print(hd_sex)\n",
        "print(hd_age)\n",
        "print(hd_heartrate)"
      ]
    },
    {
      "cell_type": "markdown",
      "source": [
        "# D. Graphical EDA"
      ],
      "metadata": {
        "id": "4rQTG1r-qsfk"
      }
    },
    {
      "cell_type": "markdown",
      "metadata": {
        "dc": {
          "key": "24"
        },
        "deletable": false,
        "editable": false,
        "run_control": {
          "frozen": true
        },
        "tags": [
          "context"
        ],
        "id": "NkNAVWRf8Ppz"
      },
      "source": [
        "### 4. Explore the associations graphically\n",
        "<p>A good picture is worth a thousand words. In addition to p-values from statistical tests, we can plot the age, sex, and maximum heart rate distributions with respect to our outcome variable. This will give us a sense of both the direction and magnitude of the relationship.</p>\n",
        "<p>First, let's plot age using a boxplot since it is a continuous variable.</p>"
      ]
    },
    {
      "cell_type": "code",
      "source": [
        "hist((hd_data$age))"
      ],
      "metadata": {
        "colab": {
          "base_uri": "https://localhost:8080/",
          "height": 437
        },
        "id": "1WRTPYOqAcJv",
        "outputId": "d99ebe3c-6d16-4d2b-c8bd-623b6ddadb97"
      },
      "execution_count": 18,
      "outputs": [
        {
          "output_type": "display_data",
          "data": {
            "text/plain": [
              "Plot with title “Histogram of (hd_data$age)”"
            ],
            "image/png": "[encoded data removed]"
          },
          "metadata": {
            "image/png": {
              "width": 420,
              "height": 420
            }
          }
        }
      ]
    },
    {
      "cell_type": "code",
      "source": [
        "hist((hd_data$thalach))"
      ],
      "metadata": {
        "colab": {
          "base_uri": "https://localhost:8080/",
          "height": 437
        },
        "id": "gkYOu8r8ux-t",
        "outputId": "64baab0a-9db0-4166-efc4-9434d310be37"
      },
      "execution_count": 19,
      "outputs": [
        {
          "output_type": "display_data",
          "data": {
            "text/plain": [
              "Plot with title “Histogram of (hd_data$thalach)”"
            ],
            "image/png": "[encoded data removed]"
          },
          "metadata": {
            "image/png": {
              "width": 420,
              "height": 420
            }
          }
        }
      ]
    },
    {
      "cell_type": "code",
      "execution_count": 23,
      "metadata": {
        "dc": {
          "key": "24"
        },
        "tags": [
          "sample_code"
        ],
        "id": "79Fs-zXs8Pp0",
        "colab": {
          "base_uri": "https://localhost:8080/",
          "height": 437
        },
        "outputId": "6444ba66-86a1-45d9-c553-2036c8cca7df"
      },
      "outputs": [
        {
          "output_type": "display_data",
          "data": {
            "text/plain": [
              "plot without title"
            ],
            "image/png": "[encoded data removed]"
          },
          "metadata": {
            "image/png": {
              "width": 420,
              "height": 420
            }
          }
        }
      ],
      "source": [
        "# Recode hd to be labelled\n",
        "hd_data %>% mutate(hd_labelled = ifelse(hd == 0, \"No disease\", \"Disease\")) -> hd_data\n",
        "library(ggplot2)\n",
        "# age vs hd\n",
        "ggplot(data = hd_data, aes(x = hd_labelled, y = age)) + geom_boxplot()"
      ]
    },
    {
      "cell_type": "markdown",
      "metadata": {
        "dc": {
          "key": "31"
        },
        "deletable": false,
        "editable": false,
        "run_control": {
          "frozen": true
        },
        "tags": [
          "context"
        ],
        "id": "jSSgIIvx8Pp0"
      },
      "source": [
        "### 5. Explore the associations graphically\n",
        "<p>Next, let's plot sex using a barplot since it is a binary variable in this dataset.</p>"
      ]
    },
    {
      "cell_type": "code",
      "execution_count": 24,
      "metadata": {
        "dc": {
          "key": "31"
        },
        "tags": [
          "sample_code"
        ],
        "id": "C2vjQGIM8Pp1",
        "colab": {
          "base_uri": "https://localhost:8080/",
          "height": 437
        },
        "outputId": "b7bbf3fe-6687-472a-b700-d63e0a1e665e"
      },
      "outputs": [
        {
          "output_type": "display_data",
          "data": {
            "text/plain": [
              "plot without title"
            ],
            "image/png": "[encoded data removed]"
          },
          "metadata": {
            "image/png": {
              "width": 420,
              "height": 420
            }
          }
        }
      ],
      "source": [
        "# sex vs hd\n",
        "ggplot(data = hd_data, aes(x = hd_labelled, fill = sex)) + geom_bar(position = \"fill\") + ylab(\"Sex %\")"
      ]
    },
    {
      "cell_type": "markdown",
      "metadata": {
        "dc": {
          "key": "38"
        },
        "deletable": false,
        "editable": false,
        "run_control": {
          "frozen": true
        },
        "tags": [
          "context"
        ],
        "id": "6nYXS-m68Pp1"
      },
      "source": [
        "### 6. Explore the associations graphically\n",
        "<p>And finally, let's plot thalach using a boxplot since it is a continuous variable.</p>"
      ]
    },
    {
      "cell_type": "code",
      "execution_count": null,
      "metadata": {
        "dc": {
          "key": "38"
        },
        "tags": [
          "sample_code"
        ],
        "id": "aAZavPq78Pp1",
        "colab": {
          "base_uri": "https://localhost:8080/",
          "height": 437
        },
        "outputId": "9834805e-c4a1-45e8-9b8a-0d7eca5b72d4"
      },
      "outputs": [
        {
          "output_type": "display_data",
          "data": {
            "text/plain": [
              "plot without title"
            ],
            "image/png": "[encoded data removed]"
          },
          "metadata": {
            "image/png": {
              "width": 420,
              "height": 420
            }
          }
        }
      ],
      "source": [
        "# max heart rate vs hd\n",
        "ggplot(data = hd_data, aes(x = hd_labelled, y = thalach)) + geom_boxplot()"
      ]
    },
    {
      "cell_type": "markdown",
      "source": [
        "# E. Model Building"
      ],
      "metadata": {
        "id": "awN1HobhtCQQ"
      }
    },
    {
      "cell_type": "markdown",
      "metadata": {
        "dc": {
          "key": "45"
        },
        "deletable": false,
        "editable": false,
        "run_control": {
          "frozen": true
        },
        "tags": [
          "context"
        ],
        "id": "CqpAGSoJ8Pp2"
      },
      "source": [
        "### 7. Putting all three variables in one model\n",
        "<p>The plots and the statistical tests both confirmed that all the three variables are highly significantly associated with our outcome (p&lt;0.001 for all tests). </p>\n",
        "<p>In general, we want to use multiple logistic regression when we have one binary outcome variable and two or more predicting variables. The binary variable is the dependent (Y) variable; we are studying the effect that the independent (X) variables have on the probability of obtaining a particular value of the dependent variable. For example, we might want to know the effect that maximum heart rate, age, and sex have on the probability that a person will have a heart disease in the next year. The model will also tell us what the remaining effect of maximum heart rate is after we control or adjust for the effects of the other two effectors. </p>\n",
        "<p>The <code>glm()</code> command is designed to perform generalized linear models (regressions) on binary outcome data, count data, probability data, proportion data, and many other data types. In our case, the outcome is binary following a binomial distribution.</p>"
      ]
    },
    {
      "cell_type": "code",
      "source": [
        "colnames(hd_data)"
      ],
      "metadata": {
        "colab": {
          "base_uri": "https://localhost:8080/",
          "height": 34
        },
        "id": "-1akjeaQDpMm",
        "outputId": "db58ce6a-bf74-4a89-801b-5c47a180fcf5"
      },
      "execution_count": 25,
      "outputs": [
        {
          "output_type": "display_data",
          "data": {
            "text/html": [
              "<style>\n",
              ".list-inline {list-style: none; margin:0; padding: 0}\n",
              ".list-inline>li {display: inline-block}\n",
              ".list-inline>li:not(:last-child)::after {content: \"\\00b7\"; padding: 0 .5ex}\n",
              "</style>\n",
              "<ol class=list-inline><li>'age'</li><li>'sex'</li><li>'cp'</li><li>'trestbps'</li><li>'chol'</li><li>'fbs'</li><li>'restecg'</li><li>'thalach'</li><li>'exang'</li><li>'oldpeak'</li><li>'slope'</li><li>'ca'</li><li>'thal'</li><li>'class'</li><li>'hd'</li><li>'hd_labelled'</li></ol>\n"
            ],
            "text/markdown": "1. 'age'\n2. 'sex'\n3. 'cp'\n4. 'trestbps'\n5. 'chol'\n6. 'fbs'\n7. 'restecg'\n8. 'thalach'\n9. 'exang'\n10. 'oldpeak'\n11. 'slope'\n12. 'ca'\n13. 'thal'\n14. 'class'\n15. 'hd'\n16. 'hd_labelled'\n\n\n",
            "text/latex": "\\begin{enumerate*}\n\\item 'age'\n\\item 'sex'\n\\item 'cp'\n\\item 'trestbps'\n\\item 'chol'\n\\item 'fbs'\n\\item 'restecg'\n\\item 'thalach'\n\\item 'exang'\n\\item 'oldpeak'\n\\item 'slope'\n\\item 'ca'\n\\item 'thal'\n\\item 'class'\n\\item 'hd'\n\\item 'hd\\_labelled'\n\\end{enumerate*}\n",
            "text/plain": [
              " [1] \"age\"         \"sex\"         \"cp\"          \"trestbps\"    \"chol\"       \n",
              " [6] \"fbs\"         \"restecg\"     \"thalach\"     \"exang\"       \"oldpeak\"    \n",
              "[11] \"slope\"       \"ca\"          \"thal\"        \"class\"       \"hd\"         \n",
              "[16] \"hd_labelled\""
            ]
          },
          "metadata": {}
        }
      ]
    },
    {
      "cell_type": "code",
      "source": [
        "# use glm function from base R and specify the family argument as binomial\n",
        "model_1 <- glm(data = hd_data, hd ~ age + sex + thalach, family = \"binomial\" )\n",
        "\n",
        "# extract the model summary\n",
        "summary(model_1)"
      ],
      "metadata": {
        "colab": {
          "base_uri": "https://localhost:8080/",
          "height": 382
        },
        "id": "70JPr4SuD0d-",
        "outputId": "0aea77b6-f0e3-4092-dab3-7000a6c070b4"
      },
      "execution_count": 26,
      "outputs": [
        {
          "output_type": "display_data",
          "data": {
            "text/plain": [
              "\n",
              "Call:\n",
              "glm(formula = hd ~ age + sex + thalach, family = \"binomial\", \n",
              "    data = hd_data)\n",
              "\n",
              "Coefficients:\n",
              "             Estimate Std. Error z value Pr(>|z|)    \n",
              "(Intercept)  3.111610   1.607466   1.936   0.0529 .  \n",
              "age          0.031886   0.016440   1.940   0.0524 .  \n",
              "sexMale      1.491902   0.307193   4.857 1.19e-06 ***\n",
              "thalach     -0.040541   0.007073  -5.732 9.93e-09 ***\n",
              "---\n",
              "Signif. codes:  0 ‘***’ 0.001 ‘**’ 0.01 ‘*’ 0.05 ‘.’ 0.1 ‘ ’ 1\n",
              "\n",
              "(Dispersion parameter for binomial family taken to be 1)\n",
              "\n",
              "    Null deviance: 417.98  on 302  degrees of freedom\n",
              "Residual deviance: 332.85  on 299  degrees of freedom\n",
              "AIC: 340.85\n",
              "\n",
              "Number of Fisher Scoring iterations: 4\n"
            ]
          },
          "metadata": {}
        }
      ]
    },
    {
      "cell_type": "code",
      "execution_count": 31,
      "metadata": {
        "dc": {
          "key": "45"
        },
        "tags": [
          "sample_code"
        ],
        "id": "0d-Q4eB28Pp2",
        "colab": {
          "base_uri": "https://localhost:8080/",
          "height": 399
        },
        "outputId": "35071d91-d49c-4d46-d577-2d88b62d1a7f"
      },
      "outputs": [
        {
          "output_type": "display_data",
          "data": {
            "text/plain": [
              "\n",
              "Call:\n",
              "glm(formula = hd ~ age + sex + thalach + cp, family = \"binomial\", \n",
              "    data = hd_data)\n",
              "\n",
              "Coefficients:\n",
              "             Estimate Std. Error z value Pr(>|z|)    \n",
              "(Intercept) -1.833775   1.934413  -0.948   0.3431    \n",
              "age          0.041915   0.018131   2.312   0.0208 *  \n",
              "sexMale      1.698299   0.330002   5.146 2.66e-07 ***\n",
              "thalach     -0.032234   0.007641  -4.219 2.46e-05 ***\n",
              "cp           0.935392   0.169819   5.508 3.63e-08 ***\n",
              "---\n",
              "Signif. codes:  0 ‘***’ 0.001 ‘**’ 0.01 ‘*’ 0.05 ‘.’ 0.1 ‘ ’ 1\n",
              "\n",
              "(Dispersion parameter for binomial family taken to be 1)\n",
              "\n",
              "    Null deviance: 417.98  on 302  degrees of freedom\n",
              "Residual deviance: 296.54  on 298  degrees of freedom\n",
              "AIC: 306.54\n",
              "\n",
              "Number of Fisher Scoring iterations: 5\n"
            ]
          },
          "metadata": {}
        }
      ],
      "source": [
        "# use glm function from base R and specify the family argument as binomial\n",
        "model_2 <- glm(data = hd_data, hd ~ age + sex + thalach + cp, family = \"binomial\" )\n",
        "\n",
        "# extract the model summary\n",
        "summary(model_2)"
      ]
    },
    {
      "cell_type": "markdown",
      "metadata": {
        "dc": {
          "key": "52"
        },
        "deletable": false,
        "editable": false,
        "run_control": {
          "frozen": true
        },
        "tags": [
          "context"
        ],
        "id": "Xtey1rrV8Pp2"
      },
      "source": [
        "### 8. Extracting useful information from the model output\n",
        "<p>It's common practice in medical research to report Odds Ratio (OR) to quantify how strongly the presence or absence of property A is associated with the presence or absence of the outcome. When the OR is greater than 1, we say A is positively associated with outcome B (increases the Odds of having B). Otherwise, we say A is negatively associated with B (decreases the Odds of having B).</p>\n",
        "<p>The raw glm coefficient table (the 'estimate' column in the printed output) in R represents the log(Odds Ratios) of the outcome. Therefore, we need to convert the values to the original OR scale and calculate the corresponding 95% Confidence Interval (CI) of the estimated Odds Ratios when reporting results from a logistic regression. </p>"
      ]
    },
    {
      "cell_type": "code",
      "execution_count": 32,
      "metadata": {
        "dc": {
          "key": "52"
        },
        "tags": [
          "sample_code"
        ],
        "id": "QBjtNbLW8Pp3",
        "colab": {
          "base_uri": "https://localhost:8080/",
          "height": 430
        },
        "outputId": "8cc5bdfa-6788-4ba1-eae4-0dcc98b1e7f5"
      },
      "outputs": [
        {
          "output_type": "display_data",
          "data": {
            "text/html": [
              "<table class=\"dataframe\">\n",
              "<caption>A tibble: 4 × 5</caption>\n",
              "<thead>\n",
              "\t<tr><th scope=col>term</th><th scope=col>estimate</th><th scope=col>std.error</th><th scope=col>statistic</th><th scope=col>p.value</th></tr>\n",
              "\t<tr><th scope=col>&lt;chr&gt;</th><th scope=col>&lt;dbl&gt;</th><th scope=col>&lt;dbl&gt;</th><th scope=col>&lt;dbl&gt;</th><th scope=col>&lt;dbl&gt;</th></tr>\n",
              "</thead>\n",
              "<tbody>\n",
              "\t<tr><td>(Intercept)</td><td> 3.11161046</td><td>1.607466382</td><td> 1.935724</td><td>5.290157e-02</td></tr>\n",
              "\t<tr><td>age        </td><td> 0.03188572</td><td>0.016439824</td><td> 1.939541</td><td>5.243548e-02</td></tr>\n",
              "\t<tr><td>sexMale    </td><td> 1.49190218</td><td>0.307192627</td><td> 4.856569</td><td>1.194372e-06</td></tr>\n",
              "\t<tr><td>thalach    </td><td>-0.04054143</td><td>0.007072952</td><td>-5.731897</td><td>9.931367e-09</td></tr>\n",
              "</tbody>\n",
              "</table>\n"
            ],
            "text/markdown": "\nA tibble: 4 × 5\n\n| term &lt;chr&gt; | estimate &lt;dbl&gt; | std.error &lt;dbl&gt; | statistic &lt;dbl&gt; | p.value &lt;dbl&gt; |\n|---|---|---|---|---|\n| (Intercept) |  3.11161046 | 1.607466382 |  1.935724 | 5.290157e-02 |\n| age         |  0.03188572 | 0.016439824 |  1.939541 | 5.243548e-02 |\n| sexMale     |  1.49190218 | 0.307192627 |  4.856569 | 1.194372e-06 |\n| thalach     | -0.04054143 | 0.007072952 | -5.731897 | 9.931367e-09 |\n\n",
            "text/latex": "A tibble: 4 × 5\n\\begin{tabular}{lllll}\n term & estimate & std.error & statistic & p.value\\\\\n <chr> & <dbl> & <dbl> & <dbl> & <dbl>\\\\\n\\hline\n\t (Intercept) &  3.11161046 & 1.607466382 &  1.935724 & 5.290157e-02\\\\\n\t age         &  0.03188572 & 0.016439824 &  1.939541 & 5.243548e-02\\\\\n\t sexMale     &  1.49190218 & 0.307192627 &  4.856569 & 1.194372e-06\\\\\n\t thalach     & -0.04054143 & 0.007072952 & -5.731897 & 9.931367e-09\\\\\n\\end{tabular}\n",
            "text/plain": [
              "  term        estimate    std.error   statistic p.value     \n",
              "1 (Intercept)  3.11161046 1.607466382  1.935724 5.290157e-02\n",
              "2 age          0.03188572 0.016439824  1.939541 5.243548e-02\n",
              "3 sexMale      1.49190218 0.307192627  4.856569 1.194372e-06\n",
              "4 thalach     -0.04054143 0.007072952 -5.731897 9.931367e-09"
            ]
          },
          "metadata": {}
        },
        {
          "output_type": "display_data",
          "data": {
            "text/html": [
              "<table class=\"dataframe\">\n",
              "<caption>A tibble: 4 × 8</caption>\n",
              "<thead>\n",
              "\t<tr><th scope=col>term</th><th scope=col>estimate</th><th scope=col>std.error</th><th scope=col>statistic</th><th scope=col>p.value</th><th scope=col>OR</th><th scope=col>lower_CI</th><th scope=col>upper_CI</th></tr>\n",
              "\t<tr><th scope=col>&lt;chr&gt;</th><th scope=col>&lt;dbl&gt;</th><th scope=col>&lt;dbl&gt;</th><th scope=col>&lt;dbl&gt;</th><th scope=col>&lt;dbl&gt;</th><th scope=col>&lt;dbl&gt;</th><th scope=col>&lt;dbl&gt;</th><th scope=col>&lt;dbl&gt;</th></tr>\n",
              "</thead>\n",
              "<tbody>\n",
              "\t<tr><td>(Intercept)</td><td> 3.11161046</td><td>1.607466382</td><td> 1.935724</td><td>5.290157e-02</td><td>22.4571817</td><td>0.9617280</td><td>524.3946593</td></tr>\n",
              "\t<tr><td>age        </td><td> 0.03188572</td><td>0.016439824</td><td> 1.939541</td><td>5.243548e-02</td><td> 1.0323995</td><td>0.9996637</td><td>  1.0662073</td></tr>\n",
              "\t<tr><td>sexMale    </td><td> 1.49190218</td><td>0.307192627</td><td> 4.856569</td><td>1.194372e-06</td><td> 4.4455437</td><td>2.4346539</td><td>  8.1173174</td></tr>\n",
              "\t<tr><td>thalach    </td><td>-0.04054143</td><td>0.007072952</td><td>-5.731897</td><td>9.931367e-09</td><td> 0.9602694</td><td>0.9470490</td><td>  0.9736743</td></tr>\n",
              "</tbody>\n",
              "</table>\n"
            ],
            "text/markdown": "\nA tibble: 4 × 8\n\n| term &lt;chr&gt; | estimate &lt;dbl&gt; | std.error &lt;dbl&gt; | statistic &lt;dbl&gt; | p.value &lt;dbl&gt; | OR &lt;dbl&gt; | lower_CI &lt;dbl&gt; | upper_CI &lt;dbl&gt; |\n|---|---|---|---|---|---|---|---|\n| (Intercept) |  3.11161046 | 1.607466382 |  1.935724 | 5.290157e-02 | 22.4571817 | 0.9617280 | 524.3946593 |\n| age         |  0.03188572 | 0.016439824 |  1.939541 | 5.243548e-02 |  1.0323995 | 0.9996637 |   1.0662073 |\n| sexMale     |  1.49190218 | 0.307192627 |  4.856569 | 1.194372e-06 |  4.4455437 | 2.4346539 |   8.1173174 |\n| thalach     | -0.04054143 | 0.007072952 | -5.731897 | 9.931367e-09 |  0.9602694 | 0.9470490 |   0.9736743 |\n\n",
            "text/latex": "A tibble: 4 × 8\n\\begin{tabular}{llllllll}\n term & estimate & std.error & statistic & p.value & OR & lower\\_CI & upper\\_CI\\\\\n <chr> & <dbl> & <dbl> & <dbl> & <dbl> & <dbl> & <dbl> & <dbl>\\\\\n\\hline\n\t (Intercept) &  3.11161046 & 1.607466382 &  1.935724 & 5.290157e-02 & 22.4571817 & 0.9617280 & 524.3946593\\\\\n\t age         &  0.03188572 & 0.016439824 &  1.939541 & 5.243548e-02 &  1.0323995 & 0.9996637 &   1.0662073\\\\\n\t sexMale     &  1.49190218 & 0.307192627 &  4.856569 & 1.194372e-06 &  4.4455437 & 2.4346539 &   8.1173174\\\\\n\t thalach     & -0.04054143 & 0.007072952 & -5.731897 & 9.931367e-09 &  0.9602694 & 0.9470490 &   0.9736743\\\\\n\\end{tabular}\n",
            "text/plain": [
              "  term        estimate    std.error   statistic p.value      OR        \n",
              "1 (Intercept)  3.11161046 1.607466382  1.935724 5.290157e-02 22.4571817\n",
              "2 age          0.03188572 0.016439824  1.939541 5.243548e-02  1.0323995\n",
              "3 sexMale      1.49190218 0.307192627  4.856569 1.194372e-06  4.4455437\n",
              "4 thalach     -0.04054143 0.007072952 -5.731897 9.931367e-09  0.9602694\n",
              "  lower_CI  upper_CI   \n",
              "1 0.9617280 524.3946593\n",
              "2 0.9996637   1.0662073\n",
              "3 2.4346539   8.1173174\n",
              "4 0.9470490   0.9736743"
            ]
          },
          "metadata": {}
        }
      ],
      "source": [
        "# load the broom package\n",
        "library(broom)\n",
        "\n",
        "# tidy up the coefficient table\n",
        "tidy_m <- tidy(model_1)\n",
        "tidy_m\n",
        "\n",
        "# calculate OR\n",
        "tidy_m$OR <- exp(tidy_m$estimate)\n",
        "\n",
        "# calculate 95% CI and save as lower CI and upper CI\n",
        "tidy_m$lower_CI <- exp(tidy_m$estimate - 1.96 * tidy_m$std.error)\n",
        "tidy_m$upper_CI <- exp(tidy_m$estimate + 1.96 * tidy_m$std.error)\n",
        "\n",
        "# display the updated coefficient table\n",
        "tidy_m\n",
        "\n"
      ]
    },
    {
      "cell_type": "code",
      "execution_count": 33,
      "metadata": {
        "dc": {
          "key": "52"
        },
        "tags": [
          "sample_code"
        ],
        "colab": {
          "base_uri": "https://localhost:8080/",
          "height": 493
        },
        "outputId": "ad2b22fc-2fb9-4ac7-aebe-323ba4854a3d",
        "id": "78TbpjIRM9Zr"
      },
      "outputs": [
        {
          "output_type": "display_data",
          "data": {
            "text/html": [
              "<table class=\"dataframe\">\n",
              "<caption>A tibble: 5 × 5</caption>\n",
              "<thead>\n",
              "\t<tr><th scope=col>term</th><th scope=col>estimate</th><th scope=col>std.error</th><th scope=col>statistic</th><th scope=col>p.value</th></tr>\n",
              "\t<tr><th scope=col>&lt;chr&gt;</th><th scope=col>&lt;dbl&gt;</th><th scope=col>&lt;dbl&gt;</th><th scope=col>&lt;dbl&gt;</th><th scope=col>&lt;dbl&gt;</th></tr>\n",
              "</thead>\n",
              "<tbody>\n",
              "\t<tr><td>(Intercept)</td><td>-1.83377540</td><td>1.934413464</td><td>-0.9479749</td><td>3.431422e-01</td></tr>\n",
              "\t<tr><td>age        </td><td> 0.04191454</td><td>0.018130765</td><td> 2.3117911</td><td>2.078920e-02</td></tr>\n",
              "\t<tr><td>sexMale    </td><td> 1.69829898</td><td>0.330002086</td><td> 5.1463280</td><td>2.656348e-07</td></tr>\n",
              "\t<tr><td>thalach    </td><td>-0.03223428</td><td>0.007640554</td><td>-4.2188403</td><td>2.455622e-05</td></tr>\n",
              "\t<tr><td>cp         </td><td> 0.93539199</td><td>0.169818742</td><td> 5.5081788</td><td>3.625651e-08</td></tr>\n",
              "</tbody>\n",
              "</table>\n"
            ],
            "text/markdown": "\nA tibble: 5 × 5\n\n| term &lt;chr&gt; | estimate &lt;dbl&gt; | std.error &lt;dbl&gt; | statistic &lt;dbl&gt; | p.value &lt;dbl&gt; |\n|---|---|---|---|---|\n| (Intercept) | -1.83377540 | 1.934413464 | -0.9479749 | 3.431422e-01 |\n| age         |  0.04191454 | 0.018130765 |  2.3117911 | 2.078920e-02 |\n| sexMale     |  1.69829898 | 0.330002086 |  5.1463280 | 2.656348e-07 |\n| thalach     | -0.03223428 | 0.007640554 | -4.2188403 | 2.455622e-05 |\n| cp          |  0.93539199 | 0.169818742 |  5.5081788 | 3.625651e-08 |\n\n",
            "text/latex": "A tibble: 5 × 5\n\\begin{tabular}{lllll}\n term & estimate & std.error & statistic & p.value\\\\\n <chr> & <dbl> & <dbl> & <dbl> & <dbl>\\\\\n\\hline\n\t (Intercept) & -1.83377540 & 1.934413464 & -0.9479749 & 3.431422e-01\\\\\n\t age         &  0.04191454 & 0.018130765 &  2.3117911 & 2.078920e-02\\\\\n\t sexMale     &  1.69829898 & 0.330002086 &  5.1463280 & 2.656348e-07\\\\\n\t thalach     & -0.03223428 & 0.007640554 & -4.2188403 & 2.455622e-05\\\\\n\t cp          &  0.93539199 & 0.169818742 &  5.5081788 & 3.625651e-08\\\\\n\\end{tabular}\n",
            "text/plain": [
              "  term        estimate    std.error   statistic  p.value     \n",
              "1 (Intercept) -1.83377540 1.934413464 -0.9479749 3.431422e-01\n",
              "2 age          0.04191454 0.018130765  2.3117911 2.078920e-02\n",
              "3 sexMale      1.69829898 0.330002086  5.1463280 2.656348e-07\n",
              "4 thalach     -0.03223428 0.007640554 -4.2188403 2.455622e-05\n",
              "5 cp           0.93539199 0.169818742  5.5081788 3.625651e-08"
            ]
          },
          "metadata": {}
        },
        {
          "output_type": "display_data",
          "data": {
            "text/html": [
              "<table class=\"dataframe\">\n",
              "<caption>A tibble: 5 × 8</caption>\n",
              "<thead>\n",
              "\t<tr><th scope=col>term</th><th scope=col>estimate</th><th scope=col>std.error</th><th scope=col>statistic</th><th scope=col>p.value</th><th scope=col>OR</th><th scope=col>lower_CI</th><th scope=col>upper_CI</th></tr>\n",
              "\t<tr><th scope=col>&lt;chr&gt;</th><th scope=col>&lt;dbl&gt;</th><th scope=col>&lt;dbl&gt;</th><th scope=col>&lt;dbl&gt;</th><th scope=col>&lt;dbl&gt;</th><th scope=col>&lt;dbl&gt;</th><th scope=col>&lt;dbl&gt;</th><th scope=col>&lt;dbl&gt;</th></tr>\n",
              "</thead>\n",
              "<tbody>\n",
              "\t<tr><td>(Intercept)</td><td>-1.83377540</td><td>1.934413464</td><td>-0.9479749</td><td>3.431422e-01</td><td>0.1598091</td><td>0.003605749</td><td> 7.0828402</td></tr>\n",
              "\t<tr><td>age        </td><td> 0.04191454</td><td>0.018130765</td><td> 2.3117911</td><td>2.078920e-02</td><td>1.0428054</td><td>1.006398626</td><td> 1.0805291</td></tr>\n",
              "\t<tr><td>sexMale    </td><td> 1.69829898</td><td>0.330002086</td><td> 5.1463280</td><td>2.656348e-07</td><td>5.4646440</td><td>2.861926195</td><td>10.4343481</td></tr>\n",
              "\t<tr><td>thalach    </td><td>-0.03223428</td><td>0.007640554</td><td>-4.2188403</td><td>2.455622e-05</td><td>0.9682797</td><td>0.953887284</td><td> 0.9828893</td></tr>\n",
              "\t<tr><td>cp         </td><td> 0.93539199</td><td>0.169818742</td><td> 5.5081788</td><td>3.625651e-08</td><td>2.5482121</td><td>1.826766120</td><td> 3.5545793</td></tr>\n",
              "</tbody>\n",
              "</table>\n"
            ],
            "text/markdown": "\nA tibble: 5 × 8\n\n| term &lt;chr&gt; | estimate &lt;dbl&gt; | std.error &lt;dbl&gt; | statistic &lt;dbl&gt; | p.value &lt;dbl&gt; | OR &lt;dbl&gt; | lower_CI &lt;dbl&gt; | upper_CI &lt;dbl&gt; |\n|---|---|---|---|---|---|---|---|\n| (Intercept) | -1.83377540 | 1.934413464 | -0.9479749 | 3.431422e-01 | 0.1598091 | 0.003605749 |  7.0828402 |\n| age         |  0.04191454 | 0.018130765 |  2.3117911 | 2.078920e-02 | 1.0428054 | 1.006398626 |  1.0805291 |\n| sexMale     |  1.69829898 | 0.330002086 |  5.1463280 | 2.656348e-07 | 5.4646440 | 2.861926195 | 10.4343481 |\n| thalach     | -0.03223428 | 0.007640554 | -4.2188403 | 2.455622e-05 | 0.9682797 | 0.953887284 |  0.9828893 |\n| cp          |  0.93539199 | 0.169818742 |  5.5081788 | 3.625651e-08 | 2.5482121 | 1.826766120 |  3.5545793 |\n\n",
            "text/latex": "A tibble: 5 × 8\n\\begin{tabular}{llllllll}\n term & estimate & std.error & statistic & p.value & OR & lower\\_CI & upper\\_CI\\\\\n <chr> & <dbl> & <dbl> & <dbl> & <dbl> & <dbl> & <dbl> & <dbl>\\\\\n\\hline\n\t (Intercept) & -1.83377540 & 1.934413464 & -0.9479749 & 3.431422e-01 & 0.1598091 & 0.003605749 &  7.0828402\\\\\n\t age         &  0.04191454 & 0.018130765 &  2.3117911 & 2.078920e-02 & 1.0428054 & 1.006398626 &  1.0805291\\\\\n\t sexMale     &  1.69829898 & 0.330002086 &  5.1463280 & 2.656348e-07 & 5.4646440 & 2.861926195 & 10.4343481\\\\\n\t thalach     & -0.03223428 & 0.007640554 & -4.2188403 & 2.455622e-05 & 0.9682797 & 0.953887284 &  0.9828893\\\\\n\t cp          &  0.93539199 & 0.169818742 &  5.5081788 & 3.625651e-08 & 2.5482121 & 1.826766120 &  3.5545793\\\\\n\\end{tabular}\n",
            "text/plain": [
              "  term        estimate    std.error   statistic  p.value      OR       \n",
              "1 (Intercept) -1.83377540 1.934413464 -0.9479749 3.431422e-01 0.1598091\n",
              "2 age          0.04191454 0.018130765  2.3117911 2.078920e-02 1.0428054\n",
              "3 sexMale      1.69829898 0.330002086  5.1463280 2.656348e-07 5.4646440\n",
              "4 thalach     -0.03223428 0.007640554 -4.2188403 2.455622e-05 0.9682797\n",
              "5 cp           0.93539199 0.169818742  5.5081788 3.625651e-08 2.5482121\n",
              "  lower_CI    upper_CI  \n",
              "1 0.003605749  7.0828402\n",
              "2 1.006398626  1.0805291\n",
              "3 2.861926195 10.4343481\n",
              "4 0.953887284  0.9828893\n",
              "5 1.826766120  3.5545793"
            ]
          },
          "metadata": {}
        }
      ],
      "source": [
        "# load the broom package\n",
        "library(broom)\n",
        "\n",
        "# tidy up the coefficient table\n",
        "tidy_m <- tidy(model_2)\n",
        "tidy_m\n",
        "\n",
        "# calculate OR\n",
        "tidy_m$OR <- exp(tidy_m$estimate)\n",
        "\n",
        "# calculate 95% CI and save as lower CI and upper CI\n",
        "tidy_m$lower_CI <- exp(tidy_m$estimate - 1.96 * tidy_m$std.error)\n",
        "tidy_m$upper_CI <- exp(tidy_m$estimate + 1.96 * tidy_m$std.error)\n",
        "\n",
        "# display the updated coefficient table\n",
        "tidy_m"
      ]
    },
    {
      "cell_type": "markdown",
      "metadata": {
        "dc": {
          "key": "59"
        },
        "deletable": false,
        "editable": false,
        "run_control": {
          "frozen": true
        },
        "tags": [
          "context"
        ],
        "id": "ZPntXEoO8Pp3"
      },
      "source": [
        "### 9. Predicted probabilities from our model\n",
        "<p>So far, we have built a logistic regression model and examined the model coefficients/ORs. We may wonder how can we use this model we developed to predict a person's likelihood of having heart disease given his/her age, sex, and maximum heart rate. Furthermore, we'd like to translate the predicted probability into a decision rule for clinical use by defining a cutoff value on the probability scale. In practice, when an individual comes in for a health check-up, the doctor would like to know the predicted probability of heart disease, for specific values of the predictors: a 45-year-old female with a max heart rate of 150. To do that, we create a data frame called newdata, in which we include the desired values for our prediction.</p>"
      ]
    },
    {
      "cell_type": "code",
      "execution_count": 35,
      "metadata": {
        "dc": {
          "key": "59"
        },
        "tags": [
          "sample_code"
        ],
        "id": "fBKm7GMj8Pp3",
        "colab": {
          "base_uri": "https://localhost:8080/",
          "height": 34
        },
        "outputId": "21582c7f-187a-4ca3-94bb-3c9f01970671"
      },
      "outputs": [
        {
          "output_type": "display_data",
          "data": {
            "text/html": [
              "<strong>1:</strong> 0.00830331208683464"
            ],
            "text/markdown": "**1:** 0.00830331208683464",
            "text/latex": "\\textbf{1:} 0.00830331208683464",
            "text/plain": [
              "          1 \n",
              "0.008303312 "
            ]
          },
          "metadata": {}
        }
      ],
      "source": [
        "# get the predicted probability in our dataset using the predict() function\n",
        "# We include the argument type=”response” in order to get our prediction.\n",
        "pred_prob <- predict(model_2, hd_data, type=\"response\")\n",
        "\n",
        "# create a decision rule using probability 0.5 as cutoff and save the predicted decision into the main data frame\n",
        "hd_data$pred_hd <- ifelse(pred_prob >= 0.5, 1, 0)\n",
        "\n",
        "# create a newdata data frame to save a new case information\n",
        "newdata <- data.frame(age=45, sex=\"Female\", thalach=150, cp = 0)\n",
        "\n",
        "# predict probability for this new case and print out the predicted value\n",
        "p_new <- predict(model_2, newdata, type=\"response\")\n",
        "p_new"
      ]
    },
    {
      "cell_type": "markdown",
      "source": [
        "# F. Model Diagnostics"
      ],
      "metadata": {
        "id": "LJAxRsFntVeF"
      }
    },
    {
      "cell_type": "markdown",
      "metadata": {
        "dc": {
          "key": "66"
        },
        "deletable": false,
        "editable": false,
        "run_control": {
          "frozen": true
        },
        "tags": [
          "context"
        ],
        "id": "Y71IwMI48Pp3"
      },
      "source": [
        "### 10. Model performance metrics\n",
        "<p>Are the predictions accurate? How well does the model fit our data? We are going to use some common metrics to evaluate the model performance. The most straightforward one is Accuracy, which is the proportion of the total number of predictions that were correct. On the other hand, we can calculate the classification error rate using 1- accuracy. However, accuracy can be misleading when the response is rare (i.e., imbalanced response). Another popular metric, Area Under the ROC curve (AUC), has the advantage that it's independent of the change in the proportion of responders. AUC ranges from 0 to 1. The closer it gets to 1 the better the model performance. Lastly, a confusion matrix is an N X N matrix, where N is the level of outcome. For the problem at hand, we have N=2, and hence we get a 2 X 2 matrix. It cross-tabulates the predicted outcome levels against the true outcome levels.</p>\n",
        "<p>After these metrics are calculated, we'll see (from the logistic regression OR table) that older age, being male and having a lower max heart rate are all risk factors for heart disease. We can also apply our model to predict the probability of having heart disease. For a 45 years old female who has a max heart rate of 150, our model generated a heart disease probability of 0.177 indicating low risk of heart disease. Although our model has an overall accuracy of 0.71, there are cases that were misclassified as shown in the confusion matrix. One way to improve our current model is to include other relevant predictors from the dataset into our model, but that's a task for another day!</p>"
      ]
    },
    {
      "cell_type": "code",
      "source": [
        "install.packages(\"Metrics\")"
      ],
      "metadata": {
        "colab": {
          "base_uri": "https://localhost:8080/"
        },
        "id": "D6WkColxu5-n",
        "outputId": "43d89927-5b5d-4992-afae-c3640a58d862"
      },
      "execution_count": 36,
      "outputs": [
        {
          "output_type": "stream",
          "name": "stderr",
          "text": [
            "Installing package into ‘/usr/local/lib/R/site-library’\n",
            "(as ‘lib’ is unspecified)\n",
            "\n"
          ]
        }
      ]
    },
    {
      "cell_type": "code",
      "execution_count": 37,
      "metadata": {
        "dc": {
          "key": "66"
        },
        "tags": [
          "sample_code"
        ],
        "id": "Xv2JOS_r8Pp4",
        "colab": {
          "base_uri": "https://localhost:8080/",
          "height": 139
        },
        "outputId": "5782d696-8fdc-4074-e48f-7b47e0d0f133"
      },
      "outputs": [
        {
          "output_type": "stream",
          "name": "stdout",
          "text": [
            "[1] \"AUC= 0.766296718722583\"\n",
            "[1] \"Accuracy= 0.768976897689769\"\n",
            "[1] \"Classification Error= 0.231023102310231\"\n"
          ]
        },
        {
          "output_type": "display_data",
          "data": {
            "text/plain": [
              "           Predicted Status\n",
              "True Status   0   1\n",
              "          0 131  33\n",
              "          1  37 102"
            ]
          },
          "metadata": {}
        }
      ],
      "source": [
        "# load Metrics package\n",
        "library(Metrics)\n",
        "\n",
        "# calculate auc, accuracy, clasification error\n",
        "auc <- auc(hd_data$hd, hd_data$pred_hd) \n",
        "accuracy <- accuracy(hd_data$hd, hd_data$pred_hd)\n",
        "classification_error <- ce(hd_data$hd, hd_data$pred_hd) \n",
        "\n",
        "# print out the metrics on to screen\n",
        "print(paste(\"AUC=\", auc))\n",
        "print(paste(\"Accuracy=\", accuracy))\n",
        "print(paste(\"Classification Error=\", classification_error))\n",
        "\n",
        "# confusion matrix\n",
        "table(hd_data$hd, hd_data$pred_hd, dnn=c(\"True Status\", \"Predicted Status\")) # confusion matrix"
      ]
    },
    {
      "cell_type": "code",
      "source": [
        "# load Metrics package\n",
        "library(Metrics)\n",
        "\n",
        "# calculate auc, accuracy, clasification error\n",
        "auc <- auc(hd_data$hd, hd_data$pred_hd) \n",
        "accuracy <- accuracy(hd_data$hd, hd_data$pred_hd)\n",
        "classification_error <- ce(hd_data$hd, hd_data$pred_hd) \n",
        "\n",
        "# print out the metrics on to screen\n",
        "print(paste(\"AUC=\", auc))\n",
        "print(paste(\"Accuracy=\", accuracy))\n",
        "print(paste(\"Classification Error=\", classification_error))\n",
        "\n",
        "# confusion matrix\n",
        "table(hd_data$hd, hd_data$pred_hd, dnn=c(\"True Status\", \"Predicted Status\")) # confusion matrix"
      ],
      "metadata": {
        "id": "Iz5jbTfmGc6m",
        "outputId": "63c2edfb-012e-4f47-fb34-a882f499cf93",
        "colab": {
          "base_uri": "https://localhost:8080/",
          "height": 139
        }
      },
      "execution_count": 38,
      "outputs": [
        {
          "output_type": "stream",
          "name": "stdout",
          "text": [
            "[1] \"AUC= 0.766296718722583\"\n",
            "[1] \"Accuracy= 0.768976897689769\"\n",
            "[1] \"Classification Error= 0.231023102310231\"\n"
          ]
        },
        {
          "output_type": "display_data",
          "data": {
            "text/plain": [
              "           Predicted Status\n",
              "True Status   0   1\n",
              "          0 131  33\n",
              "          1  37 102"
            ]
          },
          "metadata": {}
        }
      ]
    },
    {
      "cell_type": "markdown",
      "source": [
        "# G. Model Explainability"
      ],
      "metadata": {
        "id": "WprzyCB8tZO9"
      }
    },
    {
      "cell_type": "markdown",
      "source": [
        "### 11. Model Interpretation\n",
        "<p>Machine learning models used for clinical decision making need to be explained why and how it gives a prediction for a particular patient. Interpretability increases the chance of ML model adoption to clinical practice and also makes the care-giver (physician, nurse or healthcare worker) more confident to accept the prediction.\n",
        "\n",
        "In this section, we will be implementing a few approaches to interpret the supervised model we have built and also explain how the model predicts the outcome in case of an individual patient.</p>"
      ],
      "metadata": {
        "id": "Lp_85aO-Rq1m"
      }
    }
  ],
  "metadata": {
    "kernelspec": {
      "display_name": "R",
      "language": "R",
      "name": "ir"
    },
    "language_info": {
      "codemirror_mode": "r",
      "file_extension": ".r",
      "mimetype": "text/x-r-source",
      "name": "R",
      "pygments_lexer": "r",
      "version": "4.1.2"
    },
    "colab": {
      "provenance": []
    },
    "gpuClass": "standard"
  },
  "nbformat": 4,
  "nbformat_minor": 0
}